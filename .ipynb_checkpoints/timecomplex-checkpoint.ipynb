{
 "cells": [
  {
   "cell_type": "markdown",
   "metadata": {},
   "source": [
    "## 알고리즘 복잡도\n",
    "\n",
    "어떤 알고리즘이 빠른지 분석할 수 있는 지표\n",
    "\n",
    "- 시간 복잡도 -> 속도\n",
    "- 공간 복잡도 -> 메모리 사이즈\n",
    "\n",
    "최근에는 시간복잡도가 더 중요, 이해하고 계산할 줄 알아야함\n",
    "\n",
    "## 시간복잡도\n",
    "\n",
    "= 반복문\n",
    "\n",
    "입력의 크기가 커질수록 반복문이 중요함\n",
    "\n",
    "## 표기법\n",
    "\n",
    "- Big-O 중요 O(N)\n",
    "- 오메가,세타 등...\n",
    "\n",
    "최악의 시간인 Big-O 표기법이 중요! 적어도 이정도는 보장\n",
    "\n",
    "## Big-O 표기법\n",
    "\n",
    "O(1) < O($logn$) < O(n) < O($nlogn$) < O($n^2$) < O($2^n$) < O(n!)\n",
    "(log 2 = 1)\n",
    "\n",
    "- 무조건 상수회 실행한다 : O(1) like if문\n",
    "```python\n",
    "```\n",
    "- n번, n+10번 , 3n+10번 : O(n)\n",
    "```python\n",
    "```\n",
    "- $n^2$번 100+$n^2$번 300$n^2$번 : O($n^2$)\n",
    "```python\n",
    "```\n",
    "가장 높은 차수가 중요, 상수나 계수는 무시\n",
    "ex) 200000$n^2$+900000$n$ = O($n^2$)"
   ]
  },
  {
   "cell_type": "markdown",
   "metadata": {},
   "source": [
    "## 1부터 n까지의 합을 구하는 알고리즘1\n",
    "\n",
    "반복문이 n번 수행된다. 시간복잡도는 n / 빅오 표기법 O(n)"
   ]
  },
  {
   "cell_type": "code",
   "execution_count": 1,
   "metadata": {},
   "outputs": [],
   "source": [
    "def sum_all(n):\n",
    "    total = 0\n",
    "    for num in range(1,n+1):\n",
    "        total += num\n",
    "    return total"
   ]
  },
  {
   "cell_type": "code",
   "execution_count": 2,
   "metadata": {},
   "outputs": [
    {
     "data": {
      "text/plain": [
       "5050"
      ]
     },
     "execution_count": 2,
     "metadata": {},
     "output_type": "execute_result"
    }
   ],
   "source": [
    "sum_all(100)"
   ]
  },
  {
   "cell_type": "markdown",
   "metadata": {},
   "source": [
    "## 알고리즘2\n",
    "\n",
    "시간복잡도 1 / O(1)"
   ]
  },
  {
   "cell_type": "code",
   "execution_count": 3,
   "metadata": {},
   "outputs": [],
   "source": [
    "def sum_all(n):\n",
    "    return n*(n+1)//2"
   ]
  },
  {
   "cell_type": "code",
   "execution_count": 4,
   "metadata": {},
   "outputs": [
    {
     "data": {
      "text/plain": [
       "20100"
      ]
     },
     "execution_count": 4,
     "metadata": {},
     "output_type": "execute_result"
    }
   ],
   "source": [
    "sum_all(200)"
   ]
  }
 ],
 "metadata": {
  "kernelspec": {
   "display_name": "Python 3",
   "language": "python",
   "name": "python3"
  },
  "language_info": {
   "codemirror_mode": {
    "name": "ipython",
    "version": 3
   },
   "file_extension": ".py",
   "mimetype": "text/x-python",
   "name": "python",
   "nbconvert_exporter": "python",
   "pygments_lexer": "ipython3",
   "version": "3.7.4"
  }
 },
 "nbformat": 4,
 "nbformat_minor": 2
}
