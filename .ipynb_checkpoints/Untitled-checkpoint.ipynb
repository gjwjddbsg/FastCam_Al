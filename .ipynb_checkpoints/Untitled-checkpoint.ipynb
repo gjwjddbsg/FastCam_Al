{
 "cells": [
  {
   "cell_type": "code",
   "execution_count": 20,
   "metadata": {},
   "outputs": [
    {
     "name": "stdout",
     "output_type": "stream",
     "text": [
      "10\n",
      "10 -4 3 1 5 6 -35 12 21 -1\n",
      "33\n"
     ]
    }
   ],
   "source": [
    "num = int(input())\n",
    "numArr = list(map(int,input().split()))\n",
    "result = max(numArr)\n",
    "index = numArr.index(max(numArr))\n",
    "indexRight , indexLeft = index, index\n",
    "indexRight += 1\n",
    "indexLeft -= 1\n",
    "\n",
    "while(numArr[indexRight] > 0 and indexRight < len(numArr)):\n",
    "    result += numArr[indexRight]\n",
    "    indexRight += 1\n",
    "while(numArr[indexLeft] > 0 and indexLeft > 0):\n",
    "    result += numArr[indexLeft]\n",
    "    indexLeft -= 1\n",
    "    \n",
    "print(result)"
   ]
  },
  {
   "cell_type": "code",
   "execution_count": null,
   "metadata": {},
   "outputs": [],
   "source": []
  },
  {
   "cell_type": "code",
   "execution_count": null,
   "metadata": {},
   "outputs": [],
   "source": []
  }
 ],
 "metadata": {
  "kernelspec": {
   "display_name": "Python 3",
   "language": "python",
   "name": "python3"
  },
  "language_info": {
   "codemirror_mode": {
    "name": "ipython",
    "version": 3
   },
   "file_extension": ".py",
   "mimetype": "text/x-python",
   "name": "python",
   "nbconvert_exporter": "python",
   "pygments_lexer": "ipython3",
   "version": "3.7.4"
  }
 },
 "nbformat": 4,
 "nbformat_minor": 2
}
