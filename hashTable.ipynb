{
 "cells": [
  {
   "cell_type": "markdown",
   "metadata": {},
   "source": [
    "# Hash Table\n",
    "\n",
    "키(Key)에 데이터(Value)를 저장하는 데이터 구조\n",
    "\n",
    "key를 가지고 바로 데이터를 꺼냄\n",
    "\n",
    "공간과 탐색 시간을 맞바꾸는 기법\n",
    "\n",
    "# 용어\n",
    "해쉬 : 임의을 값을 고정길이로 변환\n",
    "\n",
    "해쉬테이블 : 데이터를 저장할 공간, 공간마다 해당하는 키값이 존재해 바로 접근이 가능 -> 해쉬값과 슬롯이 존재\n",
    "\n",
    "해싱함수 : ket에 대해 산술 연산을 이용해 데이터 위치를 찾을 수 있는 함수\n",
    "\n",
    "해쉬값 / 해쉬 주소 : key를 해싱함수로 연산하면 해쉬값을 얻는다. \n",
    "\n",
    "슬롯 : 한개의 데이터를 저장할 수 있는 공간\n"
   ]
  },
  {
   "cell_type": "markdown",
   "metadata": {},
   "source": [
    "# 간단한 해쉬 테이블\n",
    "- 파이썬 리스트"
   ]
  },
  {
   "cell_type": "code",
   "execution_count": 2,
   "metadata": {},
   "outputs": [
    {
     "data": {
      "text/plain": [
       "[0, 0, 0, 0, 0, 0, 0, 0, 0, 0]"
      ]
     },
     "execution_count": 2,
     "metadata": {},
     "output_type": "execute_result"
    }
   ],
   "source": [
    "hash_table = list([0 for i in range(10)])\n",
    "hash_table"
   ]
  },
  {
   "cell_type": "markdown",
   "metadata": {},
   "source": [
    "- 해쉬 함수 만들기\n",
    "\n",
    "나누기를 통한 나머지 값을 사용"
   ]
  },
  {
   "cell_type": "code",
   "execution_count": 5,
   "metadata": {},
   "outputs": [],
   "source": [
    "def hash_func(key):\n",
    "    return key % 5"
   ]
  },
  {
   "cell_type": "markdown",
   "metadata": {},
   "source": [
    "- 데이터를 테이블에 저장"
   ]
  },
  {
   "cell_type": "code",
   "execution_count": 7,
   "metadata": {},
   "outputs": [
    {
     "name": "stdout",
     "output_type": "stream",
     "text": [
      "0 3 3\n"
     ]
    }
   ],
   "source": [
    "data1 = 'Zoo'\n",
    "data2 = 'Da'\n",
    "data3 = 'Sa'\n",
    "## ord() : 문자의 아스키 코드 리턴\n",
    "print(hash_func(ord(data1[0])),hash_func(ord(data2[0])),hash_func(ord(data3[0])))"
   ]
  },
  {
   "cell_type": "code",
   "execution_count": 8,
   "metadata": {},
   "outputs": [],
   "source": [
    "def save_data(data, value):\n",
    "    key = ord(data[0])\n",
    "    hash_address = hash_func(key)\n",
    "    hash_table[hash_address] = value"
   ]
  },
  {
   "cell_type": "code",
   "execution_count": 10,
   "metadata": {},
   "outputs": [],
   "source": [
    "save_data('Zoo','1234')\n",
    "save_data('Da','5678')\n",
    "save_data('Tim','9080')"
   ]
  },
  {
   "cell_type": "markdown",
   "metadata": {},
   "source": [
    "- 데이터를 가져오기"
   ]
  },
  {
   "cell_type": "code",
   "execution_count": 11,
   "metadata": {},
   "outputs": [],
   "source": [
    "def get_data(data):\n",
    "    key = ord(data[0])\n",
    "    hash_address = hash_func(key)\n",
    "    return hash_table[hash_address]"
   ]
  },
  {
   "cell_type": "code",
   "execution_count": 12,
   "metadata": {},
   "outputs": [
    {
     "data": {
      "text/plain": [
       "'5678'"
      ]
     },
     "execution_count": 12,
     "metadata": {},
     "output_type": "execute_result"
    }
   ],
   "source": [
    "get_data('Da')"
   ]
  },
  {
   "cell_type": "markdown",
   "metadata": {},
   "source": [
    "# 해쉬 테이블의 장단점\n",
    "\n",
    "- 검색속도가 엄청 빠르다, 중복확인이 쉽다.\n",
    "- 저장공간이 좀 더 많이 필요하다, 키값이나 해쉬값이 같을때 핸들링할 방법이 필요하다... 테이블이 좀 커지면 충돌이 덜 나겠네\n",
    "- 용도 : 검색이 만이 필요한 경우, 저장 / 삭제 / 읽기가 빈번, 캐쉬 구현시"
   ]
  },
  {
   "cell_type": "markdown",
   "metadata": {},
   "source": [
    "리스트 변수를 활용해 해쉬테이블 구현"
   ]
  },
  {
   "cell_type": "code",
   "execution_count": 14,
   "metadata": {},
   "outputs": [],
   "source": [
    "hash_table = list([0 for i in range(8)])\n",
    "\n",
    "def get_key(data):\n",
    "    return hash(data)\n",
    "def hash_func(key):\n",
    "    return key%8\n",
    "def save_data(data, value):\n",
    "    hash_address = hash_func(get_key(data))\n",
    "    hash_table[hash_address] = value\n",
    "def read_data(data):\n",
    "    hash_address = hash_func(get_key(data))\n",
    "    return hash_table[hash_address]"
   ]
  },
  {
   "cell_type": "code",
   "execution_count": 17,
   "metadata": {},
   "outputs": [],
   "source": [
    "save_data('Zoo','123123')\n",
    "save_data('Kim','123321')"
   ]
  },
  {
   "cell_type": "code",
   "execution_count": 18,
   "metadata": {},
   "outputs": [
    {
     "data": {
      "text/plain": [
       "[0, 0, 0, 0, 0, '123321', 0, '123123']"
      ]
     },
     "execution_count": 18,
     "metadata": {},
     "output_type": "execute_result"
    }
   ],
   "source": [
    "hash_table"
   ]
  },
  {
   "cell_type": "code",
   "execution_count": 19,
   "metadata": {},
   "outputs": [
    {
     "data": {
      "text/plain": [
       "'123123'"
      ]
     },
     "execution_count": 19,
     "metadata": {},
     "output_type": "execute_result"
    }
   ],
   "source": [
    "read_data('Zoo')"
   ]
  },
  {
   "cell_type": "markdown",
   "metadata": {},
   "source": [
    "## 단점\n",
    "\n",
    "- 같은 키값을 가질때 추가적인 자료구조가 필요 -> 해쉬테이블이 좀 크면 좋지 않을까 -> 저장공간 더필요 ㅠ "
   ]
  },
  {
   "cell_type": "markdown",
   "metadata": {},
   "source": [
    "# 연습1 : 리스트 변수를 활요해서 해쉬테이블 구현해보기"
   ]
  },
  {
   "cell_type": "code",
   "execution_count": 20,
   "metadata": {},
   "outputs": [],
   "source": [
    "hash_table = list([0 for i in range(8)])\n",
    "def get_key(data):\n",
    "    return hash(data)\n",
    "    \n",
    "def hash_function(key):\n",
    "    return hash(data) % 8\n",
    "\n",
    "def save_data(data, value):\n",
    "    hash_address = hash_function(get_key(data))\n",
    "    hash_table[hash_address] = value\n",
    "\n",
    "def read_data(data):\n",
    "    hash_address = hash_function(get_key(data))\n",
    "    return hash_table[hash_address]\n"
   ]
  },
  {
   "cell_type": "code",
   "execution_count": 16,
   "metadata": {},
   "outputs": [],
   "source": [
    "save_data('Dave','0102030200')\n",
    "save_data('Andy','01033232200')"
   ]
  },
  {
   "cell_type": "code",
   "execution_count": 17,
   "metadata": {},
   "outputs": [
    {
     "data": {
      "text/plain": [
       "'0102030200'"
      ]
     },
     "execution_count": 17,
     "metadata": {},
     "output_type": "execute_result"
    }
   ],
   "source": [
    "read_data('Dave')"
   ]
  },
  {
   "cell_type": "code",
   "execution_count": 18,
   "metadata": {},
   "outputs": [
    {
     "data": {
      "text/plain": [
       "['01033232200', 0, 0, 0, 0, '0102030200', 0, 0]"
      ]
     },
     "execution_count": 18,
     "metadata": {},
     "output_type": "execute_result"
    }
   ],
   "source": [
    "hash_table"
   ]
  },
  {
   "cell_type": "markdown",
   "metadata": {},
   "source": [
    "# 6 충돌해결 알고리즘"
   ]
  },
  {
   "cell_type": "markdown",
   "metadata": {},
   "source": [
    "## 6.1 Chaining 기법\n",
    "\n",
    "\n",
    "- 오픈 해싱 기법 \n",
    "    - 해시테이블 이외에 또다른 공간을 만든다\n",
    "    - 링크드 리스트를 사용하면 되겠네\n",
    "    \n"
   ]
  },
  {
   "cell_type": "markdown",
   "metadata": {},
   "source": [
    "## 연습2 Chaining으로 충돌 해결"
   ]
  },
  {
   "cell_type": "code",
   "execution_count": 33,
   "metadata": {},
   "outputs": [],
   "source": [
    "hash_table = list([0 for i in range(8)])\n",
    "def get_key(data):\n",
    "    return hash(data)\n",
    "    \n",
    "def hash_function(key):\n",
    "    return key % 8\n",
    "\n",
    "def save_data(data, value):\n",
    "    index_key = get_key(data)\n",
    "    hash_address = hash_function(index_key)\n",
    "    if hash_table[hash_address] != 0:\n",
    "        for index in range(len(hash_table[hash_address])):\n",
    "            if hash_table[hash_address][index][0] == index_key:\n",
    "                hash_table[hash_address][index][1] = value\n",
    "                return\n",
    "        hash_table[hash_address].append([index_key,value])\n",
    "    else:\n",
    "        hash_table[hash_address] = [[index_key,value]]\n",
    "\n",
    "def read_data(data):\n",
    "    index_key = get_key(data)\n",
    "    hash_address = hash_function(index_key)\n",
    "    if hash_table[hash_address] != 0:\n",
    "        for index in range(len(hash_table[hash_address])):\n",
    "            if hash_table[hash_address][index][0] == index_key:\n",
    "                return hash_table[hash_address][index][1]\n",
    "        return None\n",
    "    else :\n",
    "        return None"
   ]
  },
  {
   "cell_type": "code",
   "execution_count": 34,
   "metadata": {},
   "outputs": [
    {
     "data": {
      "text/plain": [
       "'11111111'"
      ]
     },
     "execution_count": 34,
     "metadata": {},
     "output_type": "execute_result"
    }
   ],
   "source": [
    "save_data('DDD','12345678')\n",
    "save_data('Dc', '11111111')\n",
    "read_data('Dc')"
   ]
  },
  {
   "cell_type": "code",
   "execution_count": 35,
   "metadata": {},
   "outputs": [
    {
     "data": {
      "text/plain": [
       "[0,\n",
       " 0,\n",
       " 0,\n",
       " 0,\n",
       " 0,\n",
       " 0,\n",
       " 0,\n",
       " [[2799856149074442775, '12345678'], [3774247168490877071, '11111111']]]"
      ]
     },
     "execution_count": 35,
     "metadata": {},
     "output_type": "execute_result"
    }
   ],
   "source": [
    "hash_table"
   ]
  },
  {
   "cell_type": "markdown",
   "metadata": {},
   "source": [
    "## 6.2 Linear Probing 기법\n",
    "\n",
    "- 클로즈 해싱 기법\n",
    "    - 해시테이블 안에서 충돌을 해결한다.\n",
    "    - 저장공간의 활용도를 높일 수 있다."
   ]
  },
  {
   "cell_type": "markdown",
   "metadata": {},
   "source": [
    "# 구현"
   ]
  },
  {
   "cell_type": "code",
   "execution_count": 36,
   "metadata": {},
   "outputs": [],
   "source": [
    "hash_table = list([0 for i in range(8)])\n",
    "def get_key(data):\n",
    "    return hash(data)\n",
    "    \n",
    "def hash_function(key):\n",
    "    return key % 8\n",
    "\n",
    "def save_data(data, value):\n",
    "    index_key = get_key(data)\n",
    "    hash_address = hash_function(index_key)\n",
    "    if hash_table[hash_address] != 0:\n",
    "        for index in range(hash_address, len(hash_table)):\n",
    "            if hash_table[index] == 0:\n",
    "                hash_table[index] = [index_key, value]\n",
    "                return\n",
    "            elif hash_table[index][0] == index_key:\n",
    "                hash_table[index][1] = value\n",
    "                return\n",
    "    else:\n",
    "        hash_table[hash_address] = [index_key, value]\n",
    "        \n",
    "def read_data(data):\n",
    "    index_key = get_key(data)\n",
    "    hash_address = hash_function(index_key)\n",
    "    if hash_table[hash_address] != 0:\n",
    "        for index in range(hash_address, len(hash_table)):\n",
    "            if hash_table[index] == 0:\n",
    "                return None\n",
    "            elif hash_table[index][0] == index_key:\n",
    "                return hash_table[index][1]\n",
    "    else :\n",
    "        return None"
   ]
  },
  {
   "cell_type": "code",
   "execution_count": 50,
   "metadata": {},
   "outputs": [
    {
     "data": {
      "text/plain": [
       "[0,\n",
       " [3688390076738397273, '12345678'],\n",
       " 0,\n",
       " [-776406430634966589, '11111111'],\n",
       " [-7887152147326471180, '11111111'],\n",
       " [505188198949731835, '12345678'],\n",
       " [-8923223503631377994, '11111111'],\n",
       " [2799856149074442775, '12345678']]"
      ]
     },
     "execution_count": 50,
     "metadata": {},
     "output_type": "execute_result"
    }
   ],
   "source": [
    "save_data('4', '222222')\n",
    "hash_table"
   ]
  },
  {
   "cell_type": "markdown",
   "metadata": {},
   "source": [
    "## 빈번한 충돌을 개선하는 방법\n",
    "- 해쉬함수 재정의, 공간 확대 (공간과 시간을 맞바꾸는 방법)"
   ]
  },
  {
   "cell_type": "markdown",
   "metadata": {},
   "source": [
    "- 유명한 해쉬 함수들 SHA(안전한 해시 알고리즘) - 어떤 데이터도 유일한 고정값 리턴\n",
    "\n",
    "## SHA-1"
   ]
  },
  {
   "cell_type": "code",
   "execution_count": 52,
   "metadata": {},
   "outputs": [
    {
     "name": "stdout",
     "output_type": "stream",
     "text": [
      "a94a8fe5ccb19ba61c4c0873d391e987982fbbd3\n"
     ]
    }
   ],
   "source": [
    "import hashlib\n",
    "\n",
    "data = 'test'.encode()\n",
    "hash_object = hashlib.sha1()\n",
    "hash_object.update(data)\n",
    "hex_dig = hash_object.hexdigest()\n",
    "print(hex_dig)"
   ]
  },
  {
   "cell_type": "markdown",
   "metadata": {},
   "source": [
    "## SHA-256"
   ]
  },
  {
   "cell_type": "code",
   "execution_count": 53,
   "metadata": {},
   "outputs": [
    {
     "name": "stdout",
     "output_type": "stream",
     "text": [
      "9f86d081884c7d659a2feaa0c55ad015a3bf4f1b2b0b822cd15d6c15b0f00a08\n"
     ]
    }
   ],
   "source": [
    "import hashlib\n",
    "\n",
    "data = 'test'.encode()\n",
    "hash_object = hashlib.sha256()\n",
    "hash_object.update(data)\n",
    "hex_dig = hash_object.hexdigest()\n",
    "print(hex_dig)"
   ]
  },
  {
   "cell_type": "markdown",
   "metadata": {},
   "source": [
    "SHA 256을 사용하여 체이닝 구현"
   ]
  },
  {
   "cell_type": "code",
   "execution_count": 59,
   "metadata": {},
   "outputs": [],
   "source": [
    "import hashlib\n",
    "hash_table = list([0 for i in range(8)])\n",
    "def get_key(data):\n",
    "    hash_object = hashlib.sha256()\n",
    "    hash_object.update(data.encode())\n",
    "    hex_dig = hash_object.hexdigest()\n",
    "    return int(hex_dig,16)\n",
    "    \n",
    "def hash_function(key):\n",
    "    return key % 8\n",
    "\n",
    "def save_data(data, value):\n",
    "    index_key = get_key(data)\n",
    "    hash_address = hash_function(index_key)\n",
    "    if hash_table[hash_address] != 0:\n",
    "        for index in range(len(hash_table[hash_address])):\n",
    "            if hash_table[hash_address][index][0] == index_key:\n",
    "                hash_table[hash_address][index][1] = value\n",
    "                return\n",
    "        hash_table[hash_address].append([index_key,value])\n",
    "    else:\n",
    "        hash_table[hash_address] = [[index_key,value]]\n",
    "\n",
    "def read_data(data):\n",
    "    index_key = get_key(data)\n",
    "    hash_address = hash_function(index_key)\n",
    "    if hash_table[hash_address] != 0:\n",
    "        for index in range(len(hash_table[hash_address])):\n",
    "            if hash_table[hash_address][index][0] == index_key:\n",
    "                return hash_table[hash_address][index][1]\n",
    "        return None\n",
    "    else :\n",
    "        return None"
   ]
  },
  {
   "cell_type": "code",
   "execution_count": 60,
   "metadata": {},
   "outputs": [
    {
     "name": "stdout",
     "output_type": "stream",
     "text": [
      "1\n",
      "2\n",
      "2\n"
     ]
    }
   ],
   "source": [
    "print(get_key('db')%8)\n",
    "print(get_key('da')%8)\n",
    "print(get_key('dh')%8)"
   ]
  },
  {
   "cell_type": "code",
   "execution_count": 61,
   "metadata": {},
   "outputs": [
    {
     "data": {
      "text/plain": [
       "'233'"
      ]
     },
     "execution_count": 61,
     "metadata": {},
     "output_type": "execute_result"
    }
   ],
   "source": [
    "save_data('db','123')\n",
    "save_data('da','233')\n",
    "read_data('da')"
   ]
  },
  {
   "cell_type": "code",
   "execution_count": 62,
   "metadata": {},
   "outputs": [
    {
     "data": {
      "text/plain": [
       "[0,\n",
       " [[56023447740326973930934189836995694929976025384421001605890631798736143110161,\n",
       "   '123']],\n",
       " [[77049896039817716104633086125973601665927154587286664305423403838091909979274,\n",
       "   '233']],\n",
       " 0,\n",
       " 0,\n",
       " 0,\n",
       " 0,\n",
       " 0]"
      ]
     },
     "execution_count": 62,
     "metadata": {},
     "output_type": "execute_result"
    }
   ],
   "source": [
    "hash_table"
   ]
  },
  {
   "cell_type": "markdown",
   "metadata": {},
   "source": [
    "시간복잡도\n",
    "- 충돌이 없는 경우 O(1)\n",
    "- 최악의 경우 O(n)\n",
    "\n",
    "해쉬테이블의 경우 시간복잡도는 O(1)이라고 할 수 있다"
   ]
  }
 ],
 "metadata": {
  "kernelspec": {
   "display_name": "Python 3",
   "language": "python",
   "name": "python3"
  },
  "language_info": {
   "codemirror_mode": {
    "name": "ipython",
    "version": 3
   },
   "file_extension": ".py",
   "mimetype": "text/x-python",
   "name": "python",
   "nbconvert_exporter": "python",
   "pygments_lexer": "ipython3",
   "version": "3.7.4"
  }
 },
 "nbformat": 4,
 "nbformat_minor": 2
}
